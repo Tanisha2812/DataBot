{
 "cells": [
  {
   "cell_type": "code",
   "execution_count": 241,
   "id": "ad2f06ce",
   "metadata": {},
   "outputs": [],
   "source": [
    "import tensorflow as tf\n",
    "from tensorflow import keras\n",
    "import pandas as pd\n",
    "import numpy as np"
   ]
  },
  {
   "cell_type": "code",
   "execution_count": 242,
   "id": "256982e5",
   "metadata": {},
   "outputs": [],
   "source": [
    "target_arr = [\"df['col1'].nunique()\",\n",
    "             \"df.sort_values(by=['col1'],inplace =True)\",\n",
    "             \"df.sort_values(by=['col1', 'col2'],inplace =True)\",\n",
    "             \"df.sort_values(by=['col1', 'col2', 'col3'],inplace =True)\",\n",
    "             \"df.drop(columns = 'col1',inplace = True)\",\n",
    "             \"new_df=df.loc[:, ['col1','col2']]\",\n",
    "             \"df['col1'].value_counts()\",\n",
    "             \"<|{dataset}|chart|type=bar|x=col1|y=col2|height=100%|>\",\n",
    "             \"<|{dataset}|chart|type=pie|values=col2|labels=col1|height=100%|>\",\n",
    "             \"<|{dataset}|chart|mode=lines|x=col1|y=col2|>\"]"
   ]
  },
  {
   "cell_type": "code",
   "execution_count": 243,
   "id": "8ad91ba3",
   "metadata": {},
   "outputs": [
    {
     "data": {
      "text/html": [
       "<div>\n",
       "<style scoped>\n",
       "    .dataframe tbody tr th:only-of-type {\n",
       "        vertical-align: middle;\n",
       "    }\n",
       "\n",
       "    .dataframe tbody tr th {\n",
       "        vertical-align: top;\n",
       "    }\n",
       "\n",
       "    .dataframe thead th {\n",
       "        text-align: right;\n",
       "    }\n",
       "</style>\n",
       "<table border=\"1\" class=\"dataframe\">\n",
       "  <thead>\n",
       "    <tr style=\"text-align: right;\">\n",
       "      <th></th>\n",
       "      <th>ID</th>\n",
       "      <th>Name</th>\n",
       "      <th>Salary</th>\n",
       "      <th>Age</th>\n",
       "      <th>Position</th>\n",
       "      <th>Address</th>\n",
       "    </tr>\n",
       "  </thead>\n",
       "  <tbody>\n",
       "    <tr>\n",
       "      <th>0</th>\n",
       "      <td>1</td>\n",
       "      <td>Tom</td>\n",
       "      <td>50000</td>\n",
       "      <td>28</td>\n",
       "      <td>Analyst</td>\n",
       "      <td>Something</td>\n",
       "    </tr>\n",
       "    <tr>\n",
       "      <th>1</th>\n",
       "      <td>2</td>\n",
       "      <td>Harry</td>\n",
       "      <td>80000</td>\n",
       "      <td>32</td>\n",
       "      <td>Director</td>\n",
       "      <td>Something</td>\n",
       "    </tr>\n",
       "    <tr>\n",
       "      <th>2</th>\n",
       "      <td>3</td>\n",
       "      <td>Mary</td>\n",
       "      <td>20000</td>\n",
       "      <td>24</td>\n",
       "      <td>Intern</td>\n",
       "      <td>Anything</td>\n",
       "    </tr>\n",
       "    <tr>\n",
       "      <th>3</th>\n",
       "      <td>4</td>\n",
       "      <td>Jim</td>\n",
       "      <td>100000</td>\n",
       "      <td>40</td>\n",
       "      <td>Senior Manager</td>\n",
       "      <td>Nothing</td>\n",
       "    </tr>\n",
       "    <tr>\n",
       "      <th>4</th>\n",
       "      <td>5</td>\n",
       "      <td>Lily</td>\n",
       "      <td>95000</td>\n",
       "      <td>38</td>\n",
       "      <td>Manager</td>\n",
       "      <td>Something</td>\n",
       "    </tr>\n",
       "  </tbody>\n",
       "</table>\n",
       "</div>"
      ],
      "text/plain": [
       "   ID   Name  Salary  Age        Position    Address\n",
       "0   1    Tom   50000   28         Analyst  Something\n",
       "1   2  Harry   80000   32        Director  Something\n",
       "2   3   Mary   20000   24          Intern   Anything\n",
       "3   4    Jim  100000   40  Senior Manager    Nothing\n",
       "4   5   Lily   95000   38         Manager  Something"
      ]
     },
     "execution_count": 243,
     "metadata": {},
     "output_type": "execute_result"
    }
   ],
   "source": [
    "df = pd.read_csv(\"sample_dataframe.csv\")\n",
    "df"
   ]
  },
  {
   "cell_type": "code",
   "execution_count": 244,
   "id": "e5448ee1",
   "metadata": {},
   "outputs": [
    {
     "data": {
      "text/plain": [
       "Index(['ID', 'Name', 'Salary', 'Age', 'Position', 'Address'], dtype='object')"
      ]
     },
     "execution_count": 244,
     "metadata": {},
     "output_type": "execute_result"
    }
   ],
   "source": [
    "cols = df.columns\n",
    "cols"
   ]
  },
  {
   "cell_type": "code",
   "execution_count": 245,
   "id": "1e7e02b1",
   "metadata": {},
   "outputs": [
    {
     "data": {
      "text/plain": [
       "['Age']"
      ]
     },
     "execution_count": 245,
     "metadata": {},
     "output_type": "execute_result"
    }
   ],
   "source": [
    "sentence = \"drop age column\"\n",
    "# print(sentence.split())\n",
    "words = sentence.split()\n",
    "cols_requested = []\n",
    "for item in cols:\n",
    "  # print(item)\n",
    "  for word in words:\n",
    "    if(item.upper() == word.upper()):\n",
    "      cols_requested.append(item)\n",
    "\n",
    "cols_requested"
   ]
  },
  {
   "cell_type": "code",
   "execution_count": 246,
   "id": "f72d1c61",
   "metadata": {},
   "outputs": [
    {
     "data": {
      "text/plain": [
       "'drop age column'"
      ]
     },
     "execution_count": 246,
     "metadata": {},
     "output_type": "execute_result"
    }
   ],
   "source": [
    "general_sentence = sentence\n",
    "for i in range(len(cols_requested)):\n",
    "    general_sentence = general_sentence.replace(cols_requested[i], \"col\" + str(i+1))\n",
    "general_sentence"
   ]
  },
  {
   "cell_type": "code",
   "execution_count": 247,
   "id": "8f233da6",
   "metadata": {},
   "outputs": [],
   "source": [
    "from transformers import AutoTokenizer\n",
    "\n",
    "model_ckpt = \"distilbert-base-uncased\"\n",
    "tokenizer = AutoTokenizer.from_pretrained(model_ckpt)"
   ]
  },
  {
   "cell_type": "code",
   "execution_count": 248,
   "id": "66c6206e",
   "metadata": {},
   "outputs": [],
   "source": [
    "def tokenize(batch):\n",
    "    return tokenizer(batch, padding=True, truncation=True)"
   ]
  },
  {
   "cell_type": "code",
   "execution_count": 249,
   "id": "0e1e59c4",
   "metadata": {},
   "outputs": [
    {
     "name": "stdout",
     "output_type": "stream",
     "text": [
      "{'input_ids': [101, 4530, 2287, 5930, 102], 'attention_mask': [1, 1, 1, 1, 1]}\n"
     ]
    }
   ],
   "source": [
    "print(tokenize(general_sentence))"
   ]
  },
  {
   "cell_type": "code",
   "execution_count": 250,
   "id": "05de7a3e",
   "metadata": {},
   "outputs": [
    {
     "data": {
      "text/plain": [
       "[[101, 4530, 2287, 5930, 102]]"
      ]
     },
     "execution_count": 250,
     "metadata": {},
     "output_type": "execute_result"
    }
   ],
   "source": [
    "test_sentence = [general_sentence]\n",
    "test_sequence = tokenize(test_sentence).input_ids\n",
    "test_sequence"
   ]
  },
  {
   "cell_type": "code",
   "execution_count": 251,
   "id": "d2685e02",
   "metadata": {},
   "outputs": [
    {
     "data": {
      "text/plain": [
       "array([[ 101, 4530, 2287, 5930,  102,    0,    0,    0,    0,    0,    0,\n",
       "           0,    0,    0,    0,    0,    0,    0,    0,    0]])"
      ]
     },
     "execution_count": 251,
     "metadata": {},
     "output_type": "execute_result"
    }
   ],
   "source": [
    "from tensorflow.keras.preprocessing.sequence import pad_sequences\n",
    "\n",
    "max_length = 20\n",
    "\n",
    "test_padded = pad_sequences(test_sequence, maxlen=max_length, padding='post', truncating='post')\n",
    "test_padded"
   ]
  },
  {
   "cell_type": "code",
   "execution_count": 1,
   "id": "a83b9aa1",
   "metadata": {},
   "outputs": [],
   "source": [
    "import torch"
   ]
  },
  {
   "cell_type": "code",
   "execution_count": null,
   "id": "900dd5ad",
   "metadata": {},
   "outputs": [],
   "source": [
    "# Save the model weights to a file\n",
    "torch.save(model.state_dict(), 'pytorch_weights.pth')"
   ]
  },
  {
   "cell_type": "code",
   "execution_count": null,
   "id": "c84b272c",
   "metadata": {},
   "outputs": [],
   "source": [
    "input_shape = (256, 256, 3)\n",
    "keras_model = build_model(input_shape)"
   ]
  },
  {
   "cell_type": "code",
   "execution_count": 252,
   "id": "05136e56",
   "metadata": {},
   "outputs": [],
   "source": [
    "from tensorflow.keras.models import load_model\n",
    "model = tf.keras.models.load_model('fyp.h5')"
   ]
  },
  {
   "cell_type": "code",
   "execution_count": 253,
   "id": "e6019f08",
   "metadata": {},
   "outputs": [
    {
     "name": "stdout",
     "output_type": "stream",
     "text": [
      "1/1 [==============================] - 0s 499ms/step\n"
     ]
    },
    {
     "data": {
      "text/plain": [
       "4"
      ]
     },
     "execution_count": 253,
     "metadata": {},
     "output_type": "execute_result"
    }
   ],
   "source": [
    "prediction = model.predict(test_padded)\n",
    "prediction_int = np.argmax(prediction, axis=1)\n",
    "prediction_int[0]"
   ]
  },
  {
   "cell_type": "code",
   "execution_count": 254,
   "id": "a4a66741",
   "metadata": {},
   "outputs": [
    {
     "data": {
      "text/plain": [
       "\"df.drop(columns = 'col1',inplace = True)\""
      ]
     },
     "execution_count": 254,
     "metadata": {},
     "output_type": "execute_result"
    }
   ],
   "source": [
    "panda_query = target_arr[prediction_int[0]]\n",
    "panda_query"
   ]
  },
  {
   "cell_type": "code",
   "execution_count": 255,
   "id": "c911cfd0",
   "metadata": {},
   "outputs": [
    {
     "data": {
      "text/plain": [
       "\"df.drop(columns = 'Age',inplace = True)\""
      ]
     },
     "execution_count": 255,
     "metadata": {},
     "output_type": "execute_result"
    }
   ],
   "source": [
    "for i in range(len(cols_requested)):\n",
    "  panda_query = panda_query.replace(\"col\" + str(i+1), cols_requested[i])\n",
    "panda_query"
   ]
  },
  {
   "cell_type": "code",
   "execution_count": 256,
   "id": "257241d3",
   "metadata": {},
   "outputs": [
    {
     "data": {
      "text/html": [
       "<div>\n",
       "<style scoped>\n",
       "    .dataframe tbody tr th:only-of-type {\n",
       "        vertical-align: middle;\n",
       "    }\n",
       "\n",
       "    .dataframe tbody tr th {\n",
       "        vertical-align: top;\n",
       "    }\n",
       "\n",
       "    .dataframe thead th {\n",
       "        text-align: right;\n",
       "    }\n",
       "</style>\n",
       "<table border=\"1\" class=\"dataframe\">\n",
       "  <thead>\n",
       "    <tr style=\"text-align: right;\">\n",
       "      <th></th>\n",
       "      <th>ID</th>\n",
       "      <th>Name</th>\n",
       "      <th>Salary</th>\n",
       "      <th>Position</th>\n",
       "      <th>Address</th>\n",
       "    </tr>\n",
       "  </thead>\n",
       "  <tbody>\n",
       "    <tr>\n",
       "      <th>0</th>\n",
       "      <td>1</td>\n",
       "      <td>Tom</td>\n",
       "      <td>50000</td>\n",
       "      <td>Analyst</td>\n",
       "      <td>Something</td>\n",
       "    </tr>\n",
       "    <tr>\n",
       "      <th>1</th>\n",
       "      <td>2</td>\n",
       "      <td>Harry</td>\n",
       "      <td>80000</td>\n",
       "      <td>Director</td>\n",
       "      <td>Something</td>\n",
       "    </tr>\n",
       "    <tr>\n",
       "      <th>2</th>\n",
       "      <td>3</td>\n",
       "      <td>Mary</td>\n",
       "      <td>20000</td>\n",
       "      <td>Intern</td>\n",
       "      <td>Anything</td>\n",
       "    </tr>\n",
       "    <tr>\n",
       "      <th>3</th>\n",
       "      <td>4</td>\n",
       "      <td>Jim</td>\n",
       "      <td>100000</td>\n",
       "      <td>Senior Manager</td>\n",
       "      <td>Nothing</td>\n",
       "    </tr>\n",
       "    <tr>\n",
       "      <th>4</th>\n",
       "      <td>5</td>\n",
       "      <td>Lily</td>\n",
       "      <td>95000</td>\n",
       "      <td>Manager</td>\n",
       "      <td>Something</td>\n",
       "    </tr>\n",
       "  </tbody>\n",
       "</table>\n",
       "</div>"
      ],
      "text/plain": [
       "   ID   Name  Salary        Position    Address\n",
       "0   1    Tom   50000         Analyst  Something\n",
       "1   2  Harry   80000        Director  Something\n",
       "2   3   Mary   20000          Intern   Anything\n",
       "3   4    Jim  100000  Senior Manager    Nothing\n",
       "4   5   Lily   95000         Manager  Something"
      ]
     },
     "execution_count": 256,
     "metadata": {},
     "output_type": "execute_result"
    }
   ],
   "source": [
    "exec(panda_query)\n",
    "df"
   ]
  }
 ],
 "metadata": {
  "kernelspec": {
   "display_name": "Python 3 (ipykernel)",
   "language": "python",
   "name": "python3"
  },
  "language_info": {
   "codemirror_mode": {
    "name": "ipython",
    "version": 3
   },
   "file_extension": ".py",
   "mimetype": "text/x-python",
   "name": "python",
   "nbconvert_exporter": "python",
   "pygments_lexer": "ipython3",
   "version": "3.9.13"
  }
 },
 "nbformat": 4,
 "nbformat_minor": 5
}
